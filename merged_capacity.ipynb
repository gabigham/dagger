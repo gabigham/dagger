{
 "cells": [
  {
   "cell_type": "code",
   "execution_count": 135,
   "metadata": {},
   "outputs": [],
   "source": [
    "import pandas as pd\n",
    "import os"
   ]
  },
  {
   "cell_type": "code",
   "execution_count": 15,
   "metadata": {},
   "outputs": [],
   "source": [
    "#os.chdir('C://Users//adam//Desktop//dagger')"
   ]
  },
  {
   "cell_type": "code",
   "execution_count": 143,
   "metadata": {},
   "outputs": [],
   "source": [
    "#import, clean and format HI data\n",
    "hdi_file = 'data/Human Development Index (HDI).csv'\n",
    "hdi_df = pd.read_csv(hdi_file, encoding = \"ISO-8859-1\", skiprows=1)\n",
    "columns = [\"Country\"]\n",
    "\n",
    "for i in range(1990, 2018):\n",
    "   columns = columns + [str(i)]\n",
    "\n",
    "hdi_df = hdi_df[columns]\n",
    "hdi_df = hdi_df.melt(id_vars='Country', var_name='Year', value_name=\"HDI\")\n",
    "hdi_df = hdi_df.dropna()\n",
    "hdi_df['Country'] = hdi_df['Country'].str.strip()\n",
    "#hdi_df.head()"
   ]
  },
  {
   "cell_type": "code",
   "execution_count": 292,
   "metadata": {},
   "outputs": [],
   "source": [
    "#import and clean the power data\n",
    "power_file = 'data/global_power_plant_database.csv'\n",
    "power_df = pd.read_csv(power_file)\n",
    "power_df['commissioning_year'] = round(power_df['commissioning_year'],0)\n",
    "power_df = power_df[power_df['commissioning_year']>=1990]\n",
    "#power_df.head()"
   ]
  },
  {
   "cell_type": "code",
   "execution_count": 142,
   "metadata": {},
   "outputs": [],
   "source": [
    "#importing, cleaning, and formatting the population data\n",
    "pop_file = ('data/API_SP.POP.TOTL_DS2_en_csv_v2_103676.csv')\n",
    "pop_df = pd.read_csv(pop_file, encoding = \"ISO-8859-1\", skiprows=4)\n",
    "pop_df = pop_df.drop(['Country Code', 'Indicator Name', 'Indicator Code'], axis=1)\n",
    "pop_df = pop_df.melt(id_vars='Country Name', var_name='Year', value_name='Population')\n",
    "pop_df = pop_df.rename(columns={'Country Name':'Country'})\n",
    "#pop_df.head()"
   ]
  },
  {
   "cell_type": "code",
   "execution_count": 307,
   "metadata": {},
   "outputs": [],
   "source": [
    "#filter power df and create df for cumulative capacity\n",
    "pow_pd = power_df[['country_long', 'capacity_mw', 'commissioning_year' ]]\n",
    "pow_pd.head(20)\n",
    "country_list = pow_pd['country_long'].unique()\n",
    "\n",
    "cap_data = pd.DataFrame(columns = ['country_long', 'commissioning_year'])\n",
    "\n",
    "for i in range(len(country_list)):\n",
    "    for year in range(1990, 2018):\n",
    "        cap_data.loc[i*37 + year-1990] = [country_list[i], year]    \n",
    "\n",
    "# Aggregate capacity when same country and year\n",
    "countries = pow_pd.groupby(['country_long', 'commissioning_year'])\n",
    "cap_added = countries['capacity_mw'].sum()"
   ]
  },
  {
   "cell_type": "code",
   "execution_count": 319,
   "metadata": {},
   "outputs": [],
   "source": [
    "# merge data agreggate capacity with counrty year df\n",
    "cap_cont_yr = pd.merge(cap_data, cap_added, on=['country_long', 'commissioning_year'], how='left')\n",
    "cap_cont_yr = cap_cont_yr.fillna(0)"
   ]
  },
  {
   "cell_type": "code",
   "execution_count": 320,
   "metadata": {},
   "outputs": [],
   "source": [
    "# create cumulative cap by country and year\n",
    "cap_cont_yr['commissioning_year'] = cap_cont_yr['commissioning_year'].astype(str)\n",
    "cap_cum = cap_cont_yr.groupby(by=['country_long', 'commissioning_year']).sum().groupby(level=[0]).cumsum()"
   ]
  },
  {
   "cell_type": "code",
   "execution_count": 321,
   "metadata": {},
   "outputs": [],
   "source": [
    "# merge hdi, pop, and capacity by Country and Year\n",
    "hdi_pop_merged = pd.merge(hdi_df, pop_df, on=['Country', 'Year'])\n",
    "merged_data = pd.merge(hdi_pop_merged, cap_cum, left_on=['Country', 'Year'], right_on=['country_long', 'commissioning_year'])"
   ]
  },
  {
   "cell_type": "code",
   "execution_count": 324,
   "metadata": {},
   "outputs": [],
   "source": [
    "#merged_data.head()\n",
    "        \n",
    "    "
   ]
  },
  {
   "cell_type": "code",
   "execution_count": null,
   "metadata": {},
   "outputs": [],
   "source": []
  }
 ],
 "metadata": {
  "kernelspec": {
   "display_name": "Python 3",
   "language": "python",
   "name": "python3"
  },
  "language_info": {
   "codemirror_mode": {
    "name": "ipython",
    "version": 3
   },
   "file_extension": ".py",
   "mimetype": "text/x-python",
   "name": "python",
   "nbconvert_exporter": "python",
   "pygments_lexer": "ipython3",
   "version": "3.6.8"
  }
 },
 "nbformat": 4,
 "nbformat_minor": 4
}
