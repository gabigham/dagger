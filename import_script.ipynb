{
 "cells": [
  {
   "cell_type": "code",
   "execution_count": 14,
   "metadata": {},
   "outputs": [],
   "source": [
    "import pandas as pd\n",
    "import os"
   ]
  },
  {
   "cell_type": "code",
   "execution_count": 15,
   "metadata": {},
   "outputs": [],
   "source": [
    "#os.chdir('C://Users//adam//Desktop//dagger')"
   ]
  },
  {
   "cell_type": "code",
   "execution_count": 19,
   "metadata": {},
   "outputs": [],
   "source": [
    "#import, clean and format HI data\n",
    "hdi_file = 'data/Human Development Index (HDI).csv'\n",
    "hdi_df = pd.read_csv(hdi_file, encoding = \"ISO-8859-1\", skiprows=1)\n",
    "columns = [\"Country\"]\n",
    "\n",
    "for i in range(1990, 2018):\n",
    "   columns = columns + [str(i)]\n",
    "\n",
    "hdi_df = hdi_df[columns]\n",
    "hdi_df = hdi_df.melt(id_vars='Country', var_name='year')\n",
    "#hdi_df.head()"
   ]
  },
  {
   "cell_type": "code",
   "execution_count": 20,
   "metadata": {},
   "outputs": [],
   "source": [
    "#import and clean the power data\n",
    "power_file = 'data/global_power_plant_database.csv'\n",
    "power_df = pd.read_csv(power_file)\n",
    "power_df['commissioning_year'] = round(power_df['commissioning_year'],0)\n",
    "power_df = power_df[power_df['commissioning_year']>=1990]\n",
    "#power_df.head()"
   ]
  },
  {
   "cell_type": "code",
   "execution_count": 21,
   "metadata": {},
   "outputs": [],
   "source": [
    "#importing, cleaning, and formatting the population data\n",
    "pop_file = ('data/API_SP.POP.TOTL_DS2_en_csv_v2_103676.csv')\n",
    "pop_df = pd.read_csv(pop_file, skiprows=4)\n",
    "pop_df = pop_df.drop(['Country Code', 'Indicator Name', 'Indicator Code'], axis=1)\n",
    "pop_df = pop_df.melt(id_vars='Country Name', var_name='year')\n",
    "#pop_df.head()"
   ]
  },
  {
   "cell_type": "code",
   "execution_count": null,
   "metadata": {},
   "outputs": [],
   "source": []
  },
  {
   "cell_type": "code",
   "execution_count": null,
   "metadata": {},
   "outputs": [],
   "source": []
  }
 ],
 "metadata": {
  "kernelspec": {
   "display_name": "bcpy36",
   "language": "python",
   "name": "bcpy36"
  },
  "language_info": {
   "codemirror_mode": {
    "name": "ipython",
    "version": 3
   },
   "file_extension": ".py",
   "mimetype": "text/x-python",
   "name": "python",
   "nbconvert_exporter": "python",
   "pygments_lexer": "ipython3",
   "version": "3.7.3"
  }
 },
 "nbformat": 4,
 "nbformat_minor": 4
}
