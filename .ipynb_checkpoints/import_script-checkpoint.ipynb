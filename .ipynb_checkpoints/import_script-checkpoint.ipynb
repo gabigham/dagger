{
 "cells": [
  {
   "cell_type": "code",
   "execution_count": 2,
   "metadata": {},
   "outputs": [],
   "source": [
    "import pandas as pd\n",
    "import os"
   ]
  },
  {
   "cell_type": "code",
   "execution_count": 3,
   "metadata": {},
   "outputs": [],
   "source": [
    "#os.chdir('C://Users//adam//Desktop//dagger')"
   ]
  },
  {
   "cell_type": "code",
   "execution_count": 13,
   "metadata": {},
   "outputs": [],
   "source": [
    "#import, clean and format HI data\n",
    "hdi_file = 'data/Human Development Index (HDI).csv'\n",
    "hdi_df = pd.read_csv(hdi_file, encoding = \"ISO-8859-1\", skiprows=1)\n",
    "columns = [\"Country\"]\n",
    "\n",
    "for i in range(1990, 2018):\n",
    "   columns = columns + [str(i)]\n",
    "\n",
    "hdi_df = hdi_df[columns]\n",
    "hdi_df = hdi_df.melt(id_vars='Country', var_name='year')\n",
    "hdi_df.head()"
   ]
  },
  {
   "cell_type": "code",
   "execution_count": 13,
   "metadata": {},
   "outputs": [],
   "source": [
    "#import and clean the power data\n",
    "power_file = 'data/global_power_plant_database.csv'\n",
    "power_df = pd.read_csv(power_file)\n",
    "power_df['commissioning_year'] = round(power_df['commissioning_year'],0)\n",
    "power_df = power_df[power_df['commissioning_year']>=1990]\n",
    "power_df.head()"
   ]
  },
  {
   "cell_type": "code",
   "execution_count": 13,
   "metadata": {},
   "outputs": [
    {
     "data": {
      "text/html": [
       "<div>\n",
       "<style scoped>\n",
       "    .dataframe tbody tr th:only-of-type {\n",
       "        vertical-align: middle;\n",
       "    }\n",
       "\n",
       "    .dataframe tbody tr th {\n",
       "        vertical-align: top;\n",
       "    }\n",
       "\n",
       "    .dataframe thead th {\n",
       "        text-align: right;\n",
       "    }\n",
       "</style>\n",
       "<table border=\"1\" class=\"dataframe\">\n",
       "  <thead>\n",
       "    <tr style=\"text-align: right;\">\n",
       "      <th></th>\n",
       "      <th>Country Name</th>\n",
       "      <th>year</th>\n",
       "      <th>value</th>\n",
       "    </tr>\n",
       "  </thead>\n",
       "  <tbody>\n",
       "    <tr>\n",
       "      <th>0</th>\n",
       "      <td>Aruba</td>\n",
       "      <td>1960</td>\n",
       "      <td>54211.0</td>\n",
       "    </tr>\n",
       "    <tr>\n",
       "      <th>1</th>\n",
       "      <td>Afghanistan</td>\n",
       "      <td>1960</td>\n",
       "      <td>8996973.0</td>\n",
       "    </tr>\n",
       "    <tr>\n",
       "      <th>2</th>\n",
       "      <td>Angola</td>\n",
       "      <td>1960</td>\n",
       "      <td>5454933.0</td>\n",
       "    </tr>\n",
       "    <tr>\n",
       "      <th>3</th>\n",
       "      <td>Albania</td>\n",
       "      <td>1960</td>\n",
       "      <td>1608800.0</td>\n",
       "    </tr>\n",
       "    <tr>\n",
       "      <th>4</th>\n",
       "      <td>Andorra</td>\n",
       "      <td>1960</td>\n",
       "      <td>13411.0</td>\n",
       "    </tr>\n",
       "  </tbody>\n",
       "</table>\n",
       "</div>"
      ],
      "text/plain": [
       "  Country Name  year      value\n",
       "0        Aruba  1960    54211.0\n",
       "1  Afghanistan  1960  8996973.0\n",
       "2       Angola  1960  5454933.0\n",
       "3      Albania  1960  1608800.0\n",
       "4      Andorra  1960    13411.0"
      ]
     },
     "execution_count": 13,
     "metadata": {},
     "output_type": "execute_result"
    }
   ],
   "source": [
    "#importing and formatting the population data\n",
    "pop_file = ('data/API_SP.POP.TOTL_DS2_en_csv_v2_103676.csv')\n",
    "pop_df = pd.read_csv(pop_file, skiprows=4)\n",
    "pop_df = pop_df.drop(['Country Code', 'Indicator Name', 'Indicator Code'], axis=1)\n",
    "pop_df = pop_df.melt(id_vars='Country Name', var_name='year')\n",
    "pop_df.head()"
   ]
  },
  {
   "cell_type": "code",
   "execution_count": null,
   "metadata": {},
   "outputs": [],
   "source": []
  }
 ],
 "metadata": {
  "kernelspec": {
   "display_name": "bcpy36",
   "language": "python",
   "name": "bcpy36"
  },
  "language_info": {
   "codemirror_mode": {
    "name": "ipython",
    "version": 3
   },
   "file_extension": ".py",
   "mimetype": "text/x-python",
   "name": "python",
   "nbconvert_exporter": "python",
   "pygments_lexer": "ipython3",
   "version": "3.7.3"
  }
 },
 "nbformat": 4,
 "nbformat_minor": 4
}
