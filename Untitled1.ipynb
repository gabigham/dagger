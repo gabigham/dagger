{
 "cells": [
  {
   "cell_type": "code",
   "execution_count": 26,
   "metadata": {},
   "outputs": [],
   "source": [
    "%matplotlib notebook\n",
    "import matplotlib\n",
    "import matplotlib.pyplot as plt\n",
    "from matplotlib.animation import FuncAnimation, PillowWriter\n",
    "#matplotlib.use('Agg')\n",
    "from merge_data import merge_data\n",
    "import numpy as np\n",
    "import pandas as pd\n",
    "import os\n",
    "from config import (census_key, gkey)\n",
    "import gmaps"
   ]
  },
  {
   "cell_type": "code",
   "execution_count": 33,
   "metadata": {},
   "outputs": [],
   "source": [
    "cap_df, cons_df = merge_data()\n",
    "cons_df = cons_df.sort_values(by='Year').reset_index(drop=True)"
   ]
  },
  {
   "cell_type": "code",
   "execution_count": null,
   "metadata": {},
   "outputs": [],
   "source": [
    "for c in cons_df['Country']:\n",
    "    for y in cons_df['Year']:\n",
    "        print(cons_df.loc[(cons_df['Country']==c) & (cons_df['Year']==str(int(y)+1))]['total_gen'].values -\\\n",
    "        cons_df.loc[(cons_df['Country']==c) & (cons_df['Year']==y)]['total_gen'].values)"
   ]
  },
  {
   "cell_type": "code",
   "execution_count": null,
   "metadata": {},
   "outputs": [],
   "source": []
  },
  {
   "cell_type": "code",
   "execution_count": null,
   "metadata": {},
   "outputs": [],
   "source": []
  }
 ],
 "metadata": {
  "kernelspec": {
   "display_name": "bcpy36",
   "language": "python",
   "name": "bcpy36"
  },
  "language_info": {
   "codemirror_mode": {
    "name": "ipython",
    "version": 3
   },
   "file_extension": ".py",
   "mimetype": "text/x-python",
   "name": "python",
   "nbconvert_exporter": "python",
   "pygments_lexer": "ipython3",
   "version": "3.7.3"
  }
 },
 "nbformat": 4,
 "nbformat_minor": 2
}
